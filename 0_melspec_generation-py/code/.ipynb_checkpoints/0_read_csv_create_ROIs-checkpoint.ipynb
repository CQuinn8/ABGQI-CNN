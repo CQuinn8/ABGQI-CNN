{
 "cells": [
  {
   "cell_type": "markdown",
   "metadata": {},
   "source": [
    "# READ CSV\n",
    "##### Purpose :\n",
    "Reads csv from S2L Sound Component Training Data Collection (Combined) OR DEMO.csv and creates a class pkl containing ROI metadata\n",
    "\n",
    "#####  Notes :\n",
    "- Runs in ROI_generation conda env (envs/ROI_generation.yml)\n"
   ]
  },
  {
   "cell_type": "code",
   "execution_count": 3,
   "metadata": {},
   "outputs": [
    {
     "name": "stderr",
     "output_type": "stream",
     "text": [
      "C:\\Users\\cq73\\anaconda3\\envs\\ROI_generation\\lib\\site-packages\\librosa\\util\\decorators.py:9: NumbaDeprecationWarning: \u001b[1mAn import was requested from a module that has moved location.\n",
      "Import requested from: 'numba.decorators', please update to use 'numba.core.decorators' or pin to Numba version 0.48.0. This alias will not be present in Numba version 0.50.0.\u001b[0m\n",
      "  from numba.decorators import jit as optional_jit\n",
      "C:\\Users\\cq73\\anaconda3\\envs\\ROI_generation\\lib\\site-packages\\librosa\\util\\decorators.py:9: NumbaDeprecationWarning: \u001b[1mAn import was requested from a module that has moved location.\n",
      "Import of 'jit' requested from: 'numba.decorators', please update to use 'numba.core.decorators' or pin to Numba version 0.48.0. This alias will not be present in Numba version 0.50.0.\u001b[0m\n",
      "  from numba.decorators import jit as optional_jit\n"
     ]
    }
   ],
   "source": [
    "# read csv \n",
    "import pandas as pd\n",
    "import numpy as np\n",
    "import csv\n",
    "import joblib\n",
    "import os \n",
    "\n",
    "import csv\n",
    "import librosa\n",
    "import matplotlib.pyplot as plt\n",
    "import IPython.display as ipd\n",
    "\n",
    "import joblib\n",
    "\n",
    "import warnings"
   ]
  },
  {
   "cell_type": "code",
   "execution_count": 4,
   "metadata": {},
   "outputs": [],
   "source": [
    "csv_path = \"../data/demo_ROIs.csv\" # ROI tags"
   ]
  },
  {
   "cell_type": "code",
   "execution_count": 53,
   "metadata": {},
   "outputs": [
    {
     "data": {
      "text/html": [
       "<div>\n",
       "<style scoped>\n",
       "    .dataframe tbody tr th:only-of-type {\n",
       "        vertical-align: middle;\n",
       "    }\n",
       "\n",
       "    .dataframe tbody tr th {\n",
       "        vertical-align: top;\n",
       "    }\n",
       "\n",
       "    .dataframe thead th {\n",
       "        text-align: right;\n",
       "    }\n",
       "</style>\n",
       "<table border=\"1\" class=\"dataframe\">\n",
       "  <thead>\n",
       "    <tr style=\"text-align: right;\">\n",
       "      <th></th>\n",
       "      <th>File_name</th>\n",
       "      <th>Selection</th>\n",
       "      <th>View</th>\n",
       "      <th>Channel</th>\n",
       "      <th>Begin_Time_s</th>\n",
       "      <th>End_Time_s</th>\n",
       "      <th>Low_Freq_Hz</th>\n",
       "      <th>High_Freq_Hz</th>\n",
       "      <th>Annotation</th>\n",
       "    </tr>\n",
       "  </thead>\n",
       "  <tbody>\n",
       "    <tr>\n",
       "      <th>0</th>\n",
       "      <td>s2llg003_190530_2019-05-30_17-10.wav</td>\n",
       "      <td>6.0</td>\n",
       "      <td>Spectrogram 1</td>\n",
       "      <td>1.0</td>\n",
       "      <td>28.1631</td>\n",
       "      <td>31.0</td>\n",
       "      <td>844.268</td>\n",
       "      <td>11627.866</td>\n",
       "      <td>OQU</td>\n",
       "    </tr>\n",
       "    <tr>\n",
       "      <th>1</th>\n",
       "      <td>s2lam051_190531_2019-06-01_21-30.wav</td>\n",
       "      <td>4.0</td>\n",
       "      <td>Spectrogram 1</td>\n",
       "      <td>1.0</td>\n",
       "      <td>11.2957</td>\n",
       "      <td>13.0</td>\n",
       "      <td>0.000</td>\n",
       "      <td>329.630</td>\n",
       "      <td>AMU</td>\n",
       "    </tr>\n",
       "    <tr>\n",
       "      <th>2</th>\n",
       "      <td>s2llg008_180502_2018-05-08_09-00.wav</td>\n",
       "      <td>2.0</td>\n",
       "      <td>Spectrogram 1</td>\n",
       "      <td>1.0</td>\n",
       "      <td>7.4828</td>\n",
       "      <td>8.0</td>\n",
       "      <td>3647.714</td>\n",
       "      <td>8215.637</td>\n",
       "      <td>BBI</td>\n",
       "    </tr>\n",
       "    <tr>\n",
       "      <th>3</th>\n",
       "      <td>s2llg003_190530_2019-06-01_09-20.wav</td>\n",
       "      <td>3.0</td>\n",
       "      <td>Spectrogram 1</td>\n",
       "      <td>1.0</td>\n",
       "      <td>32.4845</td>\n",
       "      <td>34.0</td>\n",
       "      <td>440.816</td>\n",
       "      <td>2400.000</td>\n",
       "      <td>AMA</td>\n",
       "    </tr>\n",
       "    <tr>\n",
       "      <th>4</th>\n",
       "      <td>s2lam028_190412_2019-04-15_07-30.wav</td>\n",
       "      <td>7.0</td>\n",
       "      <td>Spectrogram 1</td>\n",
       "      <td>1.0</td>\n",
       "      <td>0.0000</td>\n",
       "      <td>5.0</td>\n",
       "      <td>0.000</td>\n",
       "      <td>2093.264</td>\n",
       "      <td>AVT</td>\n",
       "    </tr>\n",
       "  </tbody>\n",
       "</table>\n",
       "</div>"
      ],
      "text/plain": [
       "                              File_name  Selection           View  Channel  \\\n",
       "0  s2llg003_190530_2019-05-30_17-10.wav        6.0  Spectrogram 1      1.0   \n",
       "1  s2lam051_190531_2019-06-01_21-30.wav        4.0  Spectrogram 1      1.0   \n",
       "2  s2llg008_180502_2018-05-08_09-00.wav        2.0  Spectrogram 1      1.0   \n",
       "3  s2llg003_190530_2019-06-01_09-20.wav        3.0  Spectrogram 1      1.0   \n",
       "4  s2lam028_190412_2019-04-15_07-30.wav        7.0  Spectrogram 1      1.0   \n",
       "\n",
       "   Begin_Time_s  End_Time_s  Low_Freq_Hz  High_Freq_Hz Annotation  \n",
       "0       28.1631        31.0      844.268     11627.866        OQU  \n",
       "1       11.2957        13.0        0.000       329.630        AMU  \n",
       "2        7.4828         8.0     3647.714      8215.637        BBI  \n",
       "3       32.4845        34.0      440.816      2400.000        AMA  \n",
       "4        0.0000         5.0        0.000      2093.264        AVT  "
      ]
     },
     "execution_count": 53,
     "metadata": {},
     "output_type": "execute_result"
    }
   ],
   "source": [
    "df = pd.read_csv(csv_path, index_col=None,)\n",
    "df"
   ]
  },
  {
   "cell_type": "markdown",
   "metadata": {},
   "source": [
    "The dataframe contains 5 S2L ROIs to generate mel specs and run through the modeling pipeline. Each 'Annotation' is a subclass of ABGQI:\n",
    "- OQU = quiet\n",
    "- AMU = anthrophony music\n",
    "- BBI = biophony bird\n",
    "- AMA = anthrophony machine\n",
    "- AVT = anthrophony vehicle traffic"
   ]
  },
  {
   "cell_type": "code",
   "execution_count": 59,
   "metadata": {},
   "outputs": [
    {
     "data": {
      "text/plain": [
       "5"
      ]
     },
     "execution_count": 59,
     "metadata": {},
     "output_type": "execute_result"
    }
   ],
   "source": [
    "# Number of wav files\n",
    "len(df['File_name'].unique())"
   ]
  },
  {
   "cell_type": "code",
   "execution_count": 60,
   "metadata": {},
   "outputs": [
    {
     "data": {
      "text/plain": [
       "2.3147800000000003"
      ]
     },
     "execution_count": 60,
     "metadata": {},
     "output_type": "execute_result"
    }
   ],
   "source": [
    "# average ROI length\n",
    "length = df['End_Time_s'] - df['Begin_Time_s']\n",
    "length.mean()"
   ]
  },
  {
   "cell_type": "code",
   "execution_count": 61,
   "metadata": {},
   "outputs": [
    {
     "data": {
      "text/plain": [
       "2.931460986999999"
      ]
     },
     "execution_count": 61,
     "metadata": {},
     "output_type": "execute_result"
    }
   ],
   "source": [
    "# ROI variance\n",
    "length.var()"
   ]
  },
  {
   "cell_type": "code",
   "execution_count": 62,
   "metadata": {},
   "outputs": [
    {
     "data": {
      "text/html": [
       "<div>\n",
       "<style scoped>\n",
       "    .dataframe tbody tr th:only-of-type {\n",
       "        vertical-align: middle;\n",
       "    }\n",
       "\n",
       "    .dataframe tbody tr th {\n",
       "        vertical-align: top;\n",
       "    }\n",
       "\n",
       "    .dataframe thead th {\n",
       "        text-align: right;\n",
       "    }\n",
       "</style>\n",
       "<table border=\"1\" class=\"dataframe\">\n",
       "  <thead>\n",
       "    <tr style=\"text-align: right;\">\n",
       "      <th></th>\n",
       "      <th>Selection</th>\n",
       "      <th>Channel</th>\n",
       "      <th>Begin_Time_s</th>\n",
       "      <th>End_Time_s</th>\n",
       "      <th>Low_Freq_Hz</th>\n",
       "      <th>High_Freq_Hz</th>\n",
       "    </tr>\n",
       "    <tr>\n",
       "      <th>Annotation</th>\n",
       "      <th></th>\n",
       "      <th></th>\n",
       "      <th></th>\n",
       "      <th></th>\n",
       "      <th></th>\n",
       "      <th></th>\n",
       "    </tr>\n",
       "  </thead>\n",
       "  <tbody>\n",
       "    <tr>\n",
       "      <th>AMA</th>\n",
       "      <td>3.0</td>\n",
       "      <td>1.0</td>\n",
       "      <td>32.4845</td>\n",
       "      <td>34.0</td>\n",
       "      <td>440.816</td>\n",
       "      <td>2400.000</td>\n",
       "    </tr>\n",
       "    <tr>\n",
       "      <th>AMU</th>\n",
       "      <td>4.0</td>\n",
       "      <td>1.0</td>\n",
       "      <td>11.2957</td>\n",
       "      <td>13.0</td>\n",
       "      <td>0.000</td>\n",
       "      <td>329.630</td>\n",
       "    </tr>\n",
       "    <tr>\n",
       "      <th>AVT</th>\n",
       "      <td>7.0</td>\n",
       "      <td>1.0</td>\n",
       "      <td>0.0000</td>\n",
       "      <td>5.0</td>\n",
       "      <td>0.000</td>\n",
       "      <td>2093.264</td>\n",
       "    </tr>\n",
       "    <tr>\n",
       "      <th>BBI</th>\n",
       "      <td>2.0</td>\n",
       "      <td>1.0</td>\n",
       "      <td>7.4828</td>\n",
       "      <td>8.0</td>\n",
       "      <td>3647.714</td>\n",
       "      <td>8215.637</td>\n",
       "    </tr>\n",
       "    <tr>\n",
       "      <th>OQU</th>\n",
       "      <td>6.0</td>\n",
       "      <td>1.0</td>\n",
       "      <td>28.1631</td>\n",
       "      <td>31.0</td>\n",
       "      <td>844.268</td>\n",
       "      <td>11627.866</td>\n",
       "    </tr>\n",
       "  </tbody>\n",
       "</table>\n",
       "</div>"
      ],
      "text/plain": [
       "            Selection  Channel  Begin_Time_s  End_Time_s  Low_Freq_Hz  \\\n",
       "Annotation                                                              \n",
       "AMA               3.0      1.0       32.4845        34.0      440.816   \n",
       "AMU               4.0      1.0       11.2957        13.0        0.000   \n",
       "AVT               7.0      1.0        0.0000         5.0        0.000   \n",
       "BBI               2.0      1.0        7.4828         8.0     3647.714   \n",
       "OQU               6.0      1.0       28.1631        31.0      844.268   \n",
       "\n",
       "            High_Freq_Hz  \n",
       "Annotation                \n",
       "AMA             2400.000  \n",
       "AMU              329.630  \n",
       "AVT             2093.264  \n",
       "BBI             8215.637  \n",
       "OQU            11627.866  "
      ]
     },
     "execution_count": 62,
     "metadata": {},
     "output_type": "execute_result"
    }
   ],
   "source": [
    "# Summary of ROI subtypes ('Annotation')\n",
    "df.groupby(['Annotation']).sum()"
   ]
  },
  {
   "cell_type": "code",
   "execution_count": 63,
   "metadata": {},
   "outputs": [],
   "source": [
    "# quick gathering of the class info (sub classes of ABGQI, here)\n",
    "classes = []\n",
    "cnt = \"ROI_code\"\n",
    "\n",
    "# open csv\n",
    "with open(csv_path,'rt')as f:\n",
    "    data = csv.reader(f)\n",
    "    next(data, None) # skip header\n",
    "    \n",
    "    # iterate through each row finding class annotations (e.g. AVT)\n",
    "    for row in data:\n",
    "        temp_class = row[8] # column == Annotation\n",
    " \n",
    "        # aggregate classes\n",
    "        if(temp_class != cnt):\n",
    "            classes.append(temp_class)\n",
    "            cnt = temp_class"
   ]
  },
  {
   "cell_type": "code",
   "execution_count": 64,
   "metadata": {},
   "outputs": [
    {
     "name": "stdout",
     "output_type": "stream",
     "text": [
      "There are 5 classes\n"
     ]
    }
   ],
   "source": [
    "# becasue there were duplicates!!\n",
    "mylist = list(dict.fromkeys(classes))\n",
    "print(\"There are\", len(mylist), \"classes\")\n",
    "classes = mylist"
   ]
  },
  {
   "cell_type": "code",
   "execution_count": 65,
   "metadata": {},
   "outputs": [
    {
     "data": {
      "text/plain": [
       "['OQU', 'AMU', 'BBI', 'AMA', 'AVT']"
      ]
     },
     "execution_count": 65,
     "metadata": {},
     "output_type": "execute_result"
    }
   ],
   "source": [
    "classes"
   ]
  },
  {
   "cell_type": "code",
   "execution_count": 66,
   "metadata": {},
   "outputs": [
    {
     "name": "stdout",
     "output_type": "stream",
     "text": [
      "1 ROIs for OQU\n",
      "Avg. duration: dur: 2.84375\n",
      "--------------------------------------------------\n",
      "1 ROIs for AMU\n",
      "Avg. duration: dur: 1.703125\n",
      "--------------------------------------------------\n",
      "1 ROIs for BBI\n",
      "Avg. duration: dur: 0.515625\n",
      "--------------------------------------------------\n",
      "1 ROIs for AMA\n",
      "Avg. duration: dur: 1.5\n",
      "--------------------------------------------------\n",
      "1 ROIs for AVT\n",
      "Avg. duration: dur: 5.0\n",
      "--------------------------------------------------\n"
     ]
    }
   ],
   "source": [
    "# Gather ROI metadata\n",
    "roi_list = []\n",
    "\n",
    "# Iterate through each class\n",
    "for i in range(len(classes)):\n",
    "    roi_cnt = 0\n",
    "    roi = classes[i]\n",
    "    dur = 0 \n",
    "    \n",
    "    with open(csv_path,'rt') as f:\n",
    "        data = csv.reader(f)\n",
    "        next(data, None) # skip header\n",
    "        \n",
    "        for row in data:\n",
    "            # ensure we have an annotation [8] with st [4] and stop [5] times\n",
    "            if(row[8]==roi and row[5] != '' and row[4] != ''): \n",
    "                roi_cnt = roi_cnt+1\n",
    "                dur = dur + (np.float16(row[5])-np.float16(row[4]))\n",
    "    \n",
    "    # if we have any valid ROIs save info in a list for each class          \n",
    "    if(roi_cnt!=0)            :\n",
    "        print(roi_cnt,'ROIs for',classes[i])\n",
    "        print(\"Avg. duration: dur:\",dur/roi_cnt)\n",
    "        print('-'*50)\n",
    "        roi_list.append([roi_cnt,classes[i]])"
   ]
  },
  {
   "cell_type": "code",
   "execution_count": 67,
   "metadata": {},
   "outputs": [
    {
     "name": "stdout",
     "output_type": "stream",
     "text": [
      "1 [1, 'OQU']\n",
      "2 [1, 'AMU']\n",
      "3 [1, 'BBI']\n",
      "4 [1, 'AMA']\n",
      "5 [1, 'AVT']\n",
      "ROI_SUM with cutoff 5\n",
      "ROI_SUM for all classes 5\n"
     ]
    }
   ],
   "source": [
    "# count total ROIs and get names (metadata)\n",
    "(roi_list)\n",
    "roi_sum = 0\n",
    "indx = 0\n",
    "total_roi_w_cutoff = 0\n",
    "class_name_lst = []\n",
    "cutoff_class_name = []\n",
    "cutoff = 1 # th nuo. or ROIs should at least be these many\n",
    "\n",
    "\n",
    "for i in range(len(roi_list)):\n",
    "    roi_sum = roi_sum + roi_list[i][0]\n",
    "    \n",
    "    if(roi_list[i][0] >=cutoff):\n",
    "        indx+=1\n",
    "        print(indx, roi_list[i])\n",
    "        cutoff_class_name.append(roi_list[i])\n",
    "        total_roi_w_cutoff += roi_list[i][0]\n",
    "        class_name_lst.append(roi_list[i])\n",
    "print(\"ROI_SUM with cutoff\",total_roi_w_cutoff)\n",
    "print(\"ROI_SUM for all classes\",roi_sum)\n"
   ]
  },
  {
   "cell_type": "code",
   "execution_count": 68,
   "metadata": {},
   "outputs": [
    {
     "name": "stdout",
     "output_type": "stream",
     "text": [
      "Dumped\n"
     ]
    }
   ],
   "source": [
    "# save class data\n",
    "joblib.dump(cutoff_class_name, '../data/cutoff_class_name_demo.pkl')\n",
    "print(\"Dumped\")"
   ]
  },
  {
   "cell_type": "markdown",
   "metadata": {},
   "source": [
    "### CLIP WAV FILES BASED ON ABOVE ROI PROCESSING"
   ]
  },
  {
   "cell_type": "code",
   "execution_count": 69,
   "metadata": {},
   "outputs": [
    {
     "data": {
      "text/plain": [
       "True"
      ]
     },
     "execution_count": 69,
     "metadata": {},
     "output_type": "execute_result"
    }
   ],
   "source": [
    "dir_path = \"../data/wavs/\" # demo wavs\n",
    "alt_dir_path = '' # possible other wav data\n",
    "class_pkl = '../data/cutoff_class_name_demo.pkl'\n",
    "os.path.exists(dir_path)"
   ]
  },
  {
   "cell_type": "code",
   "execution_count": 70,
   "metadata": {},
   "outputs": [],
   "source": [
    "#load in class names, can skip script above if already exists\n",
    "cutoff_class_name = joblib.load(class_pkl)"
   ]
  },
  {
   "cell_type": "code",
   "execution_count": 72,
   "metadata": {
    "scrolled": true
   },
   "outputs": [
    {
     "name": "stdout",
     "output_type": "stream",
     "text": [
      "OQU\n",
      "OQU : 1\n",
      "No. of ROIs for OQU were: 1\n",
      "Saved at ../data/ROI_metadata/OQU.pkl\n",
      "Done with OQU with 0 Exceptions.\n",
      "--------------------------------------------------------------------------------\n",
      "AMU\n",
      "AMU : 1\n",
      "No. of ROIs for AMU were: 1\n",
      "Saved at ../data/ROI_metadata/AMU.pkl\n",
      "Done with AMU with 0 Exceptions.\n",
      "--------------------------------------------------------------------------------\n",
      "BBI\n",
      "BBI : 1\n",
      "No. of ROIs for BBI were: 1\n",
      "Saved at ../data/ROI_metadata/BBI.pkl\n",
      "Done with BBI with 0 Exceptions.\n",
      "--------------------------------------------------------------------------------\n",
      "AMA\n",
      "AMA : 1\n",
      "No. of ROIs for AMA were: 1\n",
      "Saved at ../data/ROI_metadata/AMA.pkl\n",
      "Done with AMA with 0 Exceptions.\n",
      "--------------------------------------------------------------------------------\n",
      "AVT\n",
      "AVT : 1\n",
      "No. of ROIs for AVT were: 1\n",
      "Saved at ../data/ROI_metadata/AVT.pkl\n",
      "Done with AVT with 0 Exceptions.\n",
      "--------------------------------------------------------------------------------\n"
     ]
    }
   ],
   "source": [
    "#warnings.filterwarnings('ignore')\n",
    "sr = 22050 # sampling rate here\n",
    "\n",
    "# iterate through each ROI class\n",
    "for iii in range(len(cutoff_class_name)):\n",
    "    excep = 0 # counting exceptions if any occurs\n",
    "    print(cutoff_class_name[iii][1])\n",
    "    class_name = cutoff_class_name[iii][1] # class of interest\n",
    "    roi_temp = []\n",
    "    roi_cnt = 0\n",
    "        \n",
    "    # open the ROI csv\n",
    "    with open(csv_path,'rt')as f:\n",
    "        data = csv.reader(f)\n",
    "        next(data, None) \n",
    "        \n",
    "        # iterate through each csv row\n",
    "        for row in data:\n",
    "            if(row[8] == class_name and row[0] != 'NA'):\n",
    "                roi_cnt +=1\n",
    "                print(class_name,\":\",roi_cnt)\n",
    "                st = round((float(row[4]))*sr) #start time\n",
    "                en = round((float(row[5]))*sr) #stop time\n",
    "\n",
    "                y1 = round((float(row[6]))) # low freq\n",
    "                y2 = round((float(row[7]))) # upper freq\n",
    "\n",
    "                # read in wav file\n",
    "                try:\n",
    "                    x, sr = librosa.load(dir_path+row[0])\n",
    "                    pth_ = dir_path+row[0]\n",
    "\n",
    "                # try alternate wv dir\n",
    "                except:\n",
    "                    print(\"Main Dir doesn't have file... \")\n",
    "                    print(dir_path+row[0] +\"\\n\")\n",
    "                    try:\n",
    "                        x, sr = librosa.load(alt_dir_path+row[0])\n",
    "                        pth_ = alt_dir_path+row[0]\n",
    "\n",
    "                    except Exception as error:\n",
    "                        print('***********************Caught this error: ' + repr(error))\n",
    "                        break\n",
    "                        excep +=1\n",
    "\n",
    "                roi_temp.append((x[st:en],pth_,st,en, y1, y2))\n",
    "    \n",
    "    jl_file_dmp = os.path.join(\"../data/ROI_metadata/\",cutoff_class_name[iii][1] +'.pkl')\n",
    "    joblib.dump(roi_temp, jl_file_dmp)\n",
    "    print('No. of ROIs for',cutoff_class_name[iii][1],'were:',len(roi_temp))\n",
    "    print(\"Saved at\",jl_file_dmp)\n",
    "    print(\"Done with\",cutoff_class_name[iii][1],'with',excep,'Exceptions.')\n",
    "    print('-'*80)"
   ]
  },
  {
   "cell_type": "code",
   "execution_count": 74,
   "metadata": {},
   "outputs": [
    {
     "name": "stdout",
     "output_type": "stream",
     "text": [
      "(1, 6) AMA.pkl\n",
      "(1, 6) AMU.pkl\n",
      "(1, 6) AVT.pkl\n",
      "(1, 6) BBI.pkl\n",
      "(1, 6) OQU.pkl\n"
     ]
    }
   ],
   "source": [
    "# check for pickle dump success. Should match above total ROI counts\n",
    "dir_path = '../data/ROI_metadata/'\n",
    "dir_file_list = os.listdir(dir_path)\n",
    "\n",
    "for i in range(len(dir_file_list)):\n",
    "    jl = joblib.load(os.path.join(dir_path,dir_file_list[i]))\n",
    "    print(np.shape(jl),dir_file_list[i].split('_')[0])\n",
    "\n",
    "del jl"
   ]
  }
 ],
 "metadata": {
  "kernelspec": {
   "display_name": "Python [conda env:ROI_generation]",
   "language": "python",
   "name": "conda-env-ROI_generation-py"
  },
  "language_info": {
   "codemirror_mode": {
    "name": "ipython",
    "version": 3
   },
   "file_extension": ".py",
   "mimetype": "text/x-python",
   "name": "python",
   "nbconvert_exporter": "python",
   "pygments_lexer": "ipython3",
   "version": "3.7.7"
  }
 },
 "nbformat": 4,
 "nbformat_minor": 4
}
