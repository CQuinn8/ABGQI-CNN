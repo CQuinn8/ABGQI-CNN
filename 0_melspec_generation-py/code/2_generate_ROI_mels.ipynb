{
 "cells": [
  {
   "cell_type": "markdown",
   "metadata": {},
   "source": [
    "# Builds 2sec sound files as new wavs\n",
    "\n",
    "- generates 2-s mel spectrograms based on concatenated class wavs\n",
    "#####  Notes :\n",
    "- Runs in ROI_generation"
   ]
  },
  {
   "cell_type": "code",
   "execution_count": 1,
   "metadata": {},
   "outputs": [
    {
     "name": "stderr",
     "output_type": "stream",
     "text": [
      "C:\\Users\\cq73\\anaconda3\\envs\\ROI_generation\\lib\\site-packages\\librosa\\util\\decorators.py:9: NumbaDeprecationWarning: \u001b[1mAn import was requested from a module that has moved location.\n",
      "Import requested from: 'numba.decorators', please update to use 'numba.core.decorators' or pin to Numba version 0.48.0. This alias will not be present in Numba version 0.50.0.\u001b[0m\n",
      "  from numba.decorators import jit as optional_jit\n",
      "C:\\Users\\cq73\\anaconda3\\envs\\ROI_generation\\lib\\site-packages\\librosa\\util\\decorators.py:9: NumbaDeprecationWarning: \u001b[1mAn import was requested from a module that has moved location.\n",
      "Import of 'jit' requested from: 'numba.decorators', please update to use 'numba.core.decorators' or pin to Numba version 0.48.0. This alias will not be present in Numba version 0.50.0.\u001b[0m\n",
      "  from numba.decorators import jit as optional_jit\n"
     ]
    }
   ],
   "source": [
    "import os\n",
    "import matplotlib\n",
    "matplotlib.use('Agg') # No pictures displayed \n",
    "import pylab\n",
    "import librosa\n",
    "import librosa.display\n",
    "import numpy as np\n",
    "import matplotlib.pyplot as plt\n",
    "import IPython.display as ipd\n",
    "import joblib\n",
    "import math\n",
    "\n",
    "%matplotlib inline"
   ]
  },
  {
   "cell_type": "code",
   "execution_count": 3,
   "metadata": {},
   "outputs": [],
   "source": [
    "# where the melspecs will be generated. Pathway needs to exist, next chunk will create class folders IN the folder\n",
    "mel_spec_dir = \"../results/melspecs/\"\n",
    "\n",
    "# melspec dir from previous script\n",
    "wav_dir = '../data/wavs_2sec/'\n",
    "\n",
    "# where class metadata lives\n",
    "cutoff_class_name = joblib.load('../data/cutoff_class_name_demo.pkl')\n",
    "cutoff_class_name\n",
    "\n",
    "roi_len = 2.000 # IMPORTANT for mfcc duration"
   ]
  },
  {
   "cell_type": "code",
   "execution_count": 4,
   "metadata": {},
   "outputs": [
    {
     "name": "stdout",
     "output_type": "stream",
     "text": [
      "Created melspec dirs:\n",
      "['AMA', 'AMU', 'AVT', 'BBI', 'OQU']\n",
      "5\n"
     ]
    }
   ],
   "source": [
    "# build a mel spec directory for each class\n",
    "for i in range(len(cutoff_class_name)):\n",
    "    if(os.path.exists(os.path.join(mel_spec_dir, cutoff_class_name[i][1]))):\n",
    "        print(cutoff_class_name[i][1], \"directory already exists. Skipping...\")\n",
    "    else:\n",
    "        os.mkdir(os.path.join(mel_spec_dir, cutoff_class_name[i][1]))\n",
    "\n",
    "print(\"Created melspec dirs:\")\n",
    "print(os.listdir(mel_spec_dir))\n",
    "print(len(os.listdir(mel_spec_dir)))"
   ]
  },
  {
   "cell_type": "code",
   "execution_count": 8,
   "metadata": {
    "jupyter": {
     "outputs_hidden": true
    }
   },
   "outputs": [
    {
     "name": "stdout",
     "output_type": "stream",
     "text": [
      "AAT-FS_2000.wav\n",
      "(8543006,)\n",
      "Tot-Sam: 193\n",
      "Tot training samples = 155\n",
      "Tot validation samples = 38\n",
      "../data/wav_temp_FS/AAT-FS_2000_tr_2000.wav\n",
      "SAVED THESE MANY SAMPLES IN TRAINING (6867206,)\n",
      "(6867206,)\n",
      "SAVED THESE MANY SAMPLES IN VALIDATION (1675800,)\n",
      "---------------------------------------------------------------------------\n",
      "AMA-FS_2000.wav\n",
      "(26735341,)\n",
      "Tot-Sam: 606\n",
      "Tot training samples = 485\n",
      "Tot validation samples = 121\n",
      "../data/wav_temp_FS/AMA-FS_2000_tr_2000.wav\n",
      "SAVED THESE MANY SAMPLES IN TRAINING (21399241,)\n",
      "(21399241,)\n",
      "SAVED THESE MANY SAMPLES IN VALIDATION (5336100,)\n",
      "---------------------------------------------------------------------------\n",
      "ART-FS_2000.wav\n",
      "(583745,)\n",
      "Tot-Sam: 13\n",
      "Tot training samples = 11\n",
      "Tot validation samples = 2\n",
      "../data/wav_temp_FS/ART-FS_2000_tr_2000.wav\n",
      "SAVED THESE MANY SAMPLES IN TRAINING (495545,)\n",
      "(495545,)\n",
      "SAVED THESE MANY SAMPLES IN VALIDATION (88200,)\n",
      "---------------------------------------------------------------------------\n",
      "AVT-FS_2000.wav\n",
      "(4038242,)\n",
      "Tot-Sam: 91\n",
      "Tot training samples = 73\n",
      "Tot validation samples = 18\n",
      "../data/wav_temp_FS/AVT-FS_2000_tr_2000.wav\n",
      "SAVED THESE MANY SAMPLES IN TRAINING (3244442,)\n",
      "(3244442,)\n",
      "SAVED THESE MANY SAMPLES IN VALIDATION (793800,)\n",
      "---------------------------------------------------------------------------\n",
      "BAM-FS_2000.wav\n",
      "(16934400,)\n",
      "Tot-Sam: 384\n",
      "Tot training samples = 308\n",
      "Tot validation samples = 76\n",
      "../data/wav_temp_FS/BAM-FS_2000_tr_2000.wav\n",
      "SAVED THESE MANY SAMPLES IN TRAINING (13582800,)\n",
      "(13582800,)\n",
      "SAVED THESE MANY SAMPLES IN VALIDATION (3351600,)\n",
      "---------------------------------------------------------------------------\n",
      "BBI-FS_2000.wav\n",
      "(396900,)\n",
      "Tot-Sam: 9\n",
      "Tot training samples = 8\n",
      "Tot validation samples = 1\n",
      "../data/wav_temp_FS/BBI-FS_2000_tr_2000.wav\n",
      "SAVED THESE MANY SAMPLES IN TRAINING (352800,)\n",
      "(352800,)\n",
      "SAVED THESE MANY SAMPLES IN VALIDATION (44100,)\n",
      "---------------------------------------------------------------------------\n",
      "BIN-FS_2000.wav\n",
      "(1750675,)\n",
      "Tot-Sam: 39\n",
      "Tot training samples = 32\n",
      "Tot validation samples = 7\n",
      "../data/wav_temp_FS/BIN-FS_2000_tr_2000.wav\n",
      "SAVED THESE MANY SAMPLES IN TRAINING (1441975,)\n",
      "(1441975,)\n",
      "SAVED THESE MANY SAMPLES IN VALIDATION (308700,)\n",
      "---------------------------------------------------------------------------\n",
      "BMA-FS_2000.wav\n",
      "(5867055,)\n",
      "Tot-Sam: 133\n",
      "Tot training samples = 107\n",
      "Tot validation samples = 26\n",
      "../data/wav_temp_FS/BMA-FS_2000_tr_2000.wav\n",
      "SAVED THESE MANY SAMPLES IN TRAINING (4720455,)\n",
      "(4720455,)\n",
      "SAVED THESE MANY SAMPLES IN VALIDATION (1146600,)\n",
      "---------------------------------------------------------------------------\n",
      "GRA-FS_2000.wav\n",
      "(4520250,)\n",
      "Tot-Sam: 102\n",
      "Tot training samples = 82\n",
      "Tot validation samples = 20\n",
      "../data/wav_temp_FS/GRA-FS_2000_tr_2000.wav\n",
      "SAVED THESE MANY SAMPLES IN TRAINING (3638250,)\n",
      "(3638250,)\n",
      "SAVED THESE MANY SAMPLES IN VALIDATION (882000,)\n",
      "---------------------------------------------------------------------------\n",
      "GST-FS_2000.wav\n",
      "(21114185,)\n",
      "Tot-Sam: 478\n",
      "Tot training samples = 383\n",
      "Tot validation samples = 95\n",
      "../data/wav_temp_FS/GST-FS_2000_tr_2000.wav\n",
      "SAVED THESE MANY SAMPLES IN TRAINING (16924685,)\n",
      "(16924685,)\n",
      "SAVED THESE MANY SAMPLES IN VALIDATION (4189500,)\n",
      "---------------------------------------------------------------------------\n",
      "GWG-FS_2000.wav\n",
      "(10694250,)\n",
      "Tot-Sam: 242\n",
      "Tot training samples = 194\n",
      "Tot validation samples = 48\n",
      "../data/wav_temp_FS/GWG-FS_2000_tr_2000.wav\n",
      "SAVED THESE MANY SAMPLES IN TRAINING (8577450,)\n",
      "(8577450,)\n",
      "SAVED THESE MANY SAMPLES IN VALIDATION (2116800,)\n",
      "---------------------------------------------------------------------------\n"
     ]
    }
   ],
   "source": [
    "# # split the data in training and validation\n",
    "# n_sam = int(22050 * roi_len)\n",
    "\n",
    "# # iterate over each wav file/class\n",
    "# for wav_nm in (os.listdir(wav_dir)):\n",
    "#     cnt = 0\n",
    "#     if roi_len_str in wav_nm:\n",
    "#         print(wav_nm)\n",
    "        \n",
    "#         y, sr = librosa.load(os.path.join(wav_dir, wav_nm), sr = 22050)\n",
    "#         print(y.shape)\n",
    "        \n",
    "#         # 80% tr split\n",
    "#         tot_sam = int(np.shape(y)[0]/n_sam)\n",
    "#         tr_sam = math.ceil(tot_sam * 0.8)\n",
    "#         val_sam = tot_sam - tr_sam\n",
    "#         print(\"Tot-Sam:\", tot_sam)\n",
    "#         print('Tot training samples =', tr_sam) # 80percent\n",
    "#         print('Tot validation samples =', val_sam) # 20percent\n",
    "        \n",
    "#         spl =  val_sam * n_sam # total training samples\n",
    "        \n",
    "#         wav_pth = os.path.join(trval_dir, wav_nm.split('.')[0]+'_tr.wav')\n",
    "#         print(wav_pth)\n",
    "        \n",
    "#         librosa.output.write_wav(wav_pth, y[spl:], sr  = 22050)        \n",
    "#         print('SAVED THESE MANY SAMPLES IN TRAINING', y[spl:].shape)\n",
    "#         print(y[spl:].shape)\n",
    "        \n",
    "#         wav_pth = os.path.join(trval_dir,wav_nm.split('.')[0]+'_val.wav')\n",
    "#         librosa.output.write_wav(wav_pth, y[:spl], sr  = 22050)\n",
    "#         print('SAVED THESE MANY SAMPLES IN VALIDATION', y[:spl].shape)\n",
    "        \n",
    "#         print('-'*75)"
   ]
  },
  {
   "cell_type": "code",
   "execution_count": 6,
   "metadata": {},
   "outputs": [
    {
     "name": "stdout",
     "output_type": "stream",
     "text": [
      "../data/wavs_2sec/\n"
     ]
    }
   ],
   "source": [
    "SR = 22050  # Sampling frequency\n",
    "FEATURE = 'mel'  # feature representation\n",
    "\n",
    "FMIN = 0 #250 # 1000\n",
    "en = 0\n",
    "\n",
    "n_sam = int(22050 * roi_len)\n",
    "print(wav_dir)"
   ]
  },
  {
   "cell_type": "code",
   "execution_count": 14,
   "metadata": {
    "scrolled": true
   },
   "outputs": [
    {
     "name": "stdout",
     "output_type": "stream",
     "text": [
      "AMA.wav\n",
      ">> 2 /20\n",
      "Total number of possible ROIs: 1\n",
      "Number of ROIs converted here: 1\n",
      "----------------------------------------------------------------------\n",
      "AMU.wav\n",
      ">> 3 /20\n",
      "Total number of possible ROIs: 1\n",
      "Number of ROIs converted here: 1\n",
      "----------------------------------------------------------------------\n",
      "AVT.wav\n",
      ">> 4 /20\n",
      "Total number of possible ROIs: 2\n",
      "Number of ROIs converted here: 1\n",
      "----------------------------------------------------------------------\n",
      "Number of ROIs converted here: 2\n",
      "----------------------------------------------------------------------\n",
      "BBI.wav\n",
      ">> 5 /20\n",
      "Total number of possible ROIs: 1\n",
      "Number of ROIs converted here: 1\n",
      "----------------------------------------------------------------------\n",
      "OQU.wav\n",
      ">> 6 /20\n",
      "Total number of possible ROIs: 1\n",
      "Number of ROIs converted here: 1\n",
      "----------------------------------------------------------------------\n"
     ]
    }
   ],
   "source": [
    "# generate mel specs for each concatenated wav\n",
    "for wav_nm in os.listdir(wav_dir):\n",
    "    print(wav_nm)\n",
    "    cnt = 0\n",
    "    en+=1\n",
    "    print('>>',en,'/20')\n",
    "\n",
    "    y, sr = librosa.load(os.path.join(wav_dir, wav_nm), sr = 22050)        \n",
    "    tot_sam = int(np.shape(y)[0]/n_sam)\n",
    "\n",
    "    print('Total number of possible ROIs:', tot_sam)\n",
    "    for n in range(tot_sam):\n",
    "\n",
    "        y_21k = y[n*n_sam:(n+1)*n_sam]\n",
    "\n",
    "        fig = plt.figure(1, frameon=False)\n",
    "        fig.set_size_inches(6, 6)\n",
    "        ax = plt.Axes(fig, [0., 0., 1., 1.])\n",
    "        ax.set_axis_off()\n",
    "        fig.add_axes(ax)\n",
    "\n",
    "        S = librosa.feature.melspectrogram(y=y_21k, \n",
    "                                           sr=22050, \n",
    "                                           n_mels=128,\n",
    "                                           fmin = 0,                                     \n",
    "                                           fmax=11025, \n",
    "                                           n_fft=728, \n",
    "                                           hop_length=32, \n",
    "                                           #win_length = None, \n",
    "                                           htk = True)\n",
    "\n",
    "        librosa.display.specshow(librosa.power_to_db(S ** 1, ref=np.max), fmin=0, y_axis='linear')# , cmap = 'gray')\n",
    "\n",
    "        directory = os.path.join(mel_spec_dir, wav_nm.split('.')[0] +'/' + (wav_nm.split('.')[0] + '_' +str(cnt) +'.png'))  # 'test.png'\n",
    "        fig.savefig(directory)\n",
    "        fig.clear()\n",
    "        ax.cla()\n",
    "        plt.clf()\n",
    "        plt.close('all')\n",
    "\n",
    "        cnt +=1\n",
    "\n",
    "        print('Number of ROIs converted here:', cnt)\n",
    "        print('-'*70)"
   ]
  },
  {
   "cell_type": "code",
   "execution_count": 15,
   "metadata": {},
   "outputs": [
    {
     "name": "stdout",
     "output_type": "stream",
     "text": [
      "['AMA', 'AMU', 'AVT', 'BBI', 'OQU']\n",
      "AMA\n",
      "1\n",
      "--------------------------------------------------\n",
      "AMU\n",
      "1\n",
      "--------------------------------------------------\n",
      "AVT\n",
      "2\n",
      "--------------------------------------------------\n",
      "BBI\n",
      "1\n",
      "--------------------------------------------------\n",
      "OQU\n",
      "1\n",
      "--------------------------------------------------\n",
      "TOTAL ROIs: 6\n"
     ]
    }
   ],
   "source": [
    "# Count the total no. of ROIs generated \n",
    "print(os.listdir(mel_spec_dir))\n",
    "cn = 0\n",
    "\n",
    "for i in range(len(os.listdir(mel_spec_dir))):\n",
    "    print(os.listdir(mel_spec_dir)[i])\n",
    "    print(len(os.listdir(os.path.join(mel_spec_dir, os.listdir(mel_spec_dir)[i]))))\n",
    "    \n",
    "    cn += len(os.listdir(os.path.join(mel_spec_dir, os.listdir(mel_spec_dir)[i])))\n",
    "    \n",
    "    print('-'*50)\n",
    "print('TOTAL ROIs:', cn)"
   ]
  },
  {
   "cell_type": "code",
   "execution_count": null,
   "metadata": {},
   "outputs": [],
   "source": []
  }
 ],
 "metadata": {
  "kernelspec": {
   "display_name": "Python [conda env:ROI_generation]",
   "language": "python",
   "name": "conda-env-ROI_generation-py"
  },
  "language_info": {
   "codemirror_mode": {
    "name": "ipython",
    "version": 3
   },
   "file_extension": ".py",
   "mimetype": "text/x-python",
   "name": "python",
   "nbconvert_exporter": "python",
   "pygments_lexer": "ipython3",
   "version": "3.7.7"
  }
 },
 "nbformat": 4,
 "nbformat_minor": 4
}
