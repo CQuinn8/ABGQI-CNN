{
 "cells": [
  {
   "cell_type": "markdown",
   "metadata": {},
   "source": [
    "# Builds 2sec sound files as new wavs\n",
    "\n",
    "- generates 2-s mel spectrograms based on concatenated class wavs\n",
    "#####  Notes :\n",
    "- Runs in ROI_generation"
   ]
  },
  {
   "cell_type": "code",
   "execution_count": 1,
   "metadata": {},
   "outputs": [
    {
     "name": "stderr",
     "output_type": "stream",
     "text": [
      "C:\\Users\\cq73\\anaconda3\\envs\\ROI_generation\\lib\\site-packages\\librosa\\util\\decorators.py:9: NumbaDeprecationWarning: \u001b[1mAn import was requested from a module that has moved location.\n",
      "Import requested from: 'numba.decorators', please update to use 'numba.core.decorators' or pin to Numba version 0.48.0. This alias will not be present in Numba version 0.50.0.\u001b[0m\n",
      "  from numba.decorators import jit as optional_jit\n",
      "C:\\Users\\cq73\\anaconda3\\envs\\ROI_generation\\lib\\site-packages\\librosa\\util\\decorators.py:9: NumbaDeprecationWarning: \u001b[1mAn import was requested from a module that has moved location.\n",
      "Import of 'jit' requested from: 'numba.decorators', please update to use 'numba.core.decorators' or pin to Numba version 0.48.0. This alias will not be present in Numba version 0.50.0.\u001b[0m\n",
      "  from numba.decorators import jit as optional_jit\n"
     ]
    }
   ],
   "source": [
    "import os\n",
    "import matplotlib\n",
    "matplotlib.use('Agg') # No pictures displayed \n",
    "import pylab\n",
    "import librosa\n",
    "import librosa.display\n",
    "import numpy as np\n",
    "import matplotlib.pyplot as plt\n",
    "import IPython.display as ipd\n",
    "import joblib\n",
    "import math\n",
    "\n",
    "%matplotlib inline"
   ]
  },
  {
   "cell_type": "code",
   "execution_count": 3,
   "metadata": {},
   "outputs": [],
   "source": [
    "# where the melspecs will be generated. Pathway needs to exist, next chunk will create class folders IN the folder\n",
    "mel_spec_dir = \"../results/melspecs/\"\n",
    "\n",
    "# melspec dir from previous script\n",
    "wav_dir = '../data/wavs_2sec/'\n",
    "\n",
    "# where class metadata lives\n",
    "cutoff_class_name = joblib.load('../data/cutoff_class_name_demo.pkl')\n",
    "cutoff_class_name\n",
    "\n",
    "roi_len = 2.000 # IMPORTANT for mfcc duration"
   ]
  },
  {
   "cell_type": "code",
   "execution_count": 4,
   "metadata": {},
   "outputs": [
    {
     "name": "stdout",
     "output_type": "stream",
     "text": [
      "Created melspec dirs:\n",
      "['AMA', 'AMU', 'AVT', 'BBI', 'OQU']\n",
      "5\n"
     ]
    }
   ],
   "source": [
    "# build a mel spec directory for each class\n",
    "for i in range(len(cutoff_class_name)):\n",
    "    if(os.path.exists(os.path.join(mel_spec_dir, cutoff_class_name[i][1]))):\n",
    "        print(cutoff_class_name[i][1], \"directory already exists. Skipping...\")\n",
    "    else:\n",
    "        os.mkdir(os.path.join(mel_spec_dir, cutoff_class_name[i][1]))\n",
    "\n",
    "print(\"Created melspec dirs:\")\n",
    "print(os.listdir(mel_spec_dir))\n",
    "print(len(os.listdir(mel_spec_dir)))"
   ]
  },
  {
   "cell_type": "code",
   "execution_count": 6,
   "metadata": {},
   "outputs": [
    {
     "name": "stdout",
     "output_type": "stream",
     "text": [
      "../data/wavs_2sec/\n"
     ]
    }
   ],
   "source": [
    "SR = 22050  # Sampling frequency\n",
    "FEATURE = 'mel'  # feature representation\n",
    "\n",
    "FMIN = 0 #250 # 1000\n",
    "en = 0\n",
    "\n",
    "n_sam = int(22050 * roi_len)\n",
    "print(wav_dir)"
   ]
  },
  {
   "cell_type": "code",
   "execution_count": 14,
   "metadata": {
    "scrolled": true
   },
   "outputs": [
    {
     "name": "stdout",
     "output_type": "stream",
     "text": [
      "AMA.wav\n",
      ">> 2 /20\n",
      "Total number of possible ROIs: 1\n",
      "Number of ROIs converted here: 1\n",
      "----------------------------------------------------------------------\n",
      "AMU.wav\n",
      ">> 3 /20\n",
      "Total number of possible ROIs: 1\n",
      "Number of ROIs converted here: 1\n",
      "----------------------------------------------------------------------\n",
      "AVT.wav\n",
      ">> 4 /20\n",
      "Total number of possible ROIs: 2\n",
      "Number of ROIs converted here: 1\n",
      "----------------------------------------------------------------------\n",
      "Number of ROIs converted here: 2\n",
      "----------------------------------------------------------------------\n",
      "BBI.wav\n",
      ">> 5 /20\n",
      "Total number of possible ROIs: 1\n",
      "Number of ROIs converted here: 1\n",
      "----------------------------------------------------------------------\n",
      "OQU.wav\n",
      ">> 6 /20\n",
      "Total number of possible ROIs: 1\n",
      "Number of ROIs converted here: 1\n",
      "----------------------------------------------------------------------\n"
     ]
    }
   ],
   "source": [
    "# generate mel specs for each concatenated wav\n",
    "for wav_nm in os.listdir(wav_dir):\n",
    "    print(wav_nm)\n",
    "    cnt = 0\n",
    "    en+=1\n",
    "    print('>>',en,'/20')\n",
    "\n",
    "    y, sr = librosa.load(os.path.join(wav_dir, wav_nm), sr = 22050)        \n",
    "    tot_sam = int(np.shape(y)[0]/n_sam)\n",
    "\n",
    "    print('Total number of possible ROIs:', tot_sam)\n",
    "    for n in range(tot_sam):\n",
    "\n",
    "        y_21k = y[n*n_sam:(n+1)*n_sam]\n",
    "\n",
    "        fig = plt.figure(1, frameon=False)\n",
    "        fig.set_size_inches(6, 6)\n",
    "        ax = plt.Axes(fig, [0., 0., 1., 1.])\n",
    "        ax.set_axis_off()\n",
    "        fig.add_axes(ax)\n",
    "\n",
    "        S = librosa.feature.melspectrogram(y=y_21k, \n",
    "                                           sr=22050, \n",
    "                                           n_mels=128,\n",
    "                                           fmin = 0,                                     \n",
    "                                           fmax=11025, \n",
    "                                           n_fft=728, \n",
    "                                           hop_length=32, \n",
    "                                           #win_length = None, \n",
    "                                           htk = True)\n",
    "\n",
    "        librosa.display.specshow(librosa.power_to_db(S ** 1, ref=np.max), fmin=0, y_axis='linear')# , cmap = 'gray')\n",
    "\n",
    "        directory = os.path.join(mel_spec_dir, wav_nm.split('.')[0] +'/' + (wav_nm.split('.')[0] + '_' +str(cnt) +'.png'))  # 'test.png'\n",
    "        fig.savefig(directory)\n",
    "        fig.clear()\n",
    "        ax.cla()\n",
    "        plt.clf()\n",
    "        plt.close('all')\n",
    "\n",
    "        cnt +=1\n",
    "\n",
    "        print('Number of ROIs converted here:', cnt)\n",
    "        print('-'*70)"
   ]
  },
  {
   "cell_type": "code",
   "execution_count": 15,
   "metadata": {},
   "outputs": [
    {
     "name": "stdout",
     "output_type": "stream",
     "text": [
      "['AMA', 'AMU', 'AVT', 'BBI', 'OQU']\n",
      "AMA\n",
      "1\n",
      "--------------------------------------------------\n",
      "AMU\n",
      "1\n",
      "--------------------------------------------------\n",
      "AVT\n",
      "2\n",
      "--------------------------------------------------\n",
      "BBI\n",
      "1\n",
      "--------------------------------------------------\n",
      "OQU\n",
      "1\n",
      "--------------------------------------------------\n",
      "TOTAL ROIs: 6\n"
     ]
    }
   ],
   "source": [
    "# Count the total no. of ROIs generated \n",
    "print(os.listdir(mel_spec_dir))\n",
    "cn = 0\n",
    "\n",
    "for i in range(len(os.listdir(mel_spec_dir))):\n",
    "    print(os.listdir(mel_spec_dir)[i])\n",
    "    print(len(os.listdir(os.path.join(mel_spec_dir, os.listdir(mel_spec_dir)[i]))))\n",
    "    \n",
    "    cn += len(os.listdir(os.path.join(mel_spec_dir, os.listdir(mel_spec_dir)[i])))\n",
    "    \n",
    "    print('-'*50)\n",
    "print('TOTAL ROIs:', cn)"
   ]
  },
  {
   "cell_type": "code",
   "execution_count": null,
   "metadata": {},
   "outputs": [],
   "source": []
  }
 ],
 "metadata": {
  "kernelspec": {
   "display_name": "Python [conda env:ROI_generation]",
   "language": "python",
   "name": "conda-env-ROI_generation-py"
  },
  "language_info": {
   "codemirror_mode": {
    "name": "ipython",
    "version": 3
   },
   "file_extension": ".py",
   "mimetype": "text/x-python",
   "name": "python",
   "nbconvert_exporter": "python",
   "pygments_lexer": "ipython3",
   "version": "3.7.7"
  }
 },
 "nbformat": 4,
 "nbformat_minor": 4
}
