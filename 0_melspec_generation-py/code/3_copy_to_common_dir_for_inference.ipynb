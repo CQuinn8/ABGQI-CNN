{
 "cells": [
  {
   "cell_type": "markdown",
   "metadata": {},
   "source": [
    "### Purpose:\n",
    "- simple script to copy all melspecs in subdirectories (class dirs) to a common directory for inference if needed"
   ]
  },
  {
   "cell_type": "code",
   "execution_count": 1,
   "metadata": {},
   "outputs": [],
   "source": [
    "import glob\n",
    "import os\n",
    "import shutil"
   ]
  },
  {
   "cell_type": "code",
   "execution_count": 2,
   "metadata": {},
   "outputs": [],
   "source": [
    "# Class specific dirs\n",
    "mel_spec_dir = \"../results/melspecs/\"\n",
    "\n",
    "# combined directory\n",
    "all_mel_dir = \"../results/all_melspecs/\""
   ]
  },
  {
   "cell_type": "code",
   "execution_count": 6,
   "metadata": {},
   "outputs": [
    {
     "name": "stdout",
     "output_type": "stream",
     "text": [
      "directory already exists. Skipping...\n"
     ]
    }
   ],
   "source": [
    "# create out dir\n",
    "if os.path.exists(all_mel_dir):\n",
    "   print(\"directory already exists. Skipping...\")\n",
    "else:\n",
    "   os.mkdir(all_mel_dir)"
   ]
  },
  {
   "cell_type": "code",
   "execution_count": 9,
   "metadata": {},
   "outputs": [],
   "source": [
    "# copy all mel specs from their clas directories\n",
    "for filename in glob.glob(mel_spec_dir + \"*/*\"):\n",
    "    shutil.copy(filename, all_mel_dir)"
   ]
  }
 ],
 "metadata": {
  "kernelspec": {
   "display_name": "Python [conda env:ROI_generation]",
   "language": "python",
   "name": "conda-env-ROI_generation-py"
  },
  "language_info": {
   "codemirror_mode": {
    "name": "ipython",
    "version": 3
   },
   "file_extension": ".py",
   "mimetype": "text/x-python",
   "name": "python",
   "nbconvert_exporter": "python",
   "pygments_lexer": "ipython3",
   "version": "3.7.7"
  }
 },
 "nbformat": 4,
 "nbformat_minor": 4
}
