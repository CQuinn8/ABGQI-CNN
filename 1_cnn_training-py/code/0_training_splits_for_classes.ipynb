{
 "cells": [
  {
   "cell_type": "markdown",
   "metadata": {},
   "source": [
    "#### Purpose:\n",
    "Sets up new training, testing, and validation splits based on class directories of melspecs\n",
    "- can contact author for S2L-ABGQI dataset otherwise requires separate mel spectrograms "
   ]
  },
  {
   "cell_type": "code",
   "execution_count": 1,
   "metadata": {},
   "outputs": [],
   "source": [
    "import glob\n",
    "import os\n",
    "import numpy as np\n",
    "from sklearn.model_selection import train_test_split\n",
    "import math\n",
    "import random\n",
    "import shutil"
   ]
  },
  {
   "cell_type": "code",
   "execution_count": 2,
   "metadata": {},
   "outputs": [
    {
     "data": {
      "text/plain": [
       "''"
      ]
     },
     "execution_count": 2,
     "metadata": {},
     "output_type": "execute_result"
    }
   ],
   "source": [
    "os.getcwd()"
   ]
  },
  {
   "cell_type": "code",
   "execution_count": 3,
   "metadata": {},
   "outputs": [],
   "source": [
    "melspec_dir = '../../melspec_generation/results/melspecs/'\n",
    "split_dirs = ['training','validation','testing']\n",
    "new_split_dir = '../data/splits/'\n",
    "\n",
    "# split definition n =\n",
    "test_n = 50\n",
    "val_n = 200 # interference is n = 50"
   ]
  },
  {
   "cell_type": "code",
   "execution_count": 4,
   "metadata": {},
   "outputs": [],
   "source": [
    "# receives a source directoy (where png lives) and target (where to copy to) \n",
    "#    and uses str splicing [MAY NEED TO BE ADAPTED TO DIFFFERENT DATASETS or PCS] to get simple filenames\n",
    "#    String splicing has to happen because of complicated naming convention from prior steps (Oct 2020)\n",
    "def file_copier(src_path, dest_path, index):\n",
    "    # string splicing\n",
    "    ext = src_path.split(\"_\")[-1] # get extension\n",
    "    cl = src_path.split(\"_\")[-5] # get class\n",
    "    cl_annotation = cl.split(\"\\\\\")[-1] # clean to class annotation\n",
    "    \n",
    "    # target directory\n",
    "    temp_dest = dest_path + \"/\" + str(index) + \"_\" + cl_annotation + \"_\" + ext\n",
    "    \n",
    "    # copy png\n",
    "    shutil.copy(src_path, temp_dest)"
   ]
  },
  {
   "cell_type": "code",
   "execution_count": 5,
   "metadata": {},
   "outputs": [
    {
     "data": {
      "text/plain": [
       "['AMA', 'AMU', 'AVT', 'BBI', 'OQU']"
      ]
     },
     "execution_count": 5,
     "metadata": {},
     "output_type": "execute_result"
    }
   ],
   "source": [
    "# retrieve class\n",
    "class_dirs = glob.glob(melspec_dir + \"*\")\n",
    "class_dirs = [i.split(\"\\\\\")[1] for i in class_dirs]\n",
    "class_dirs"
   ]
  },
  {
   "cell_type": "code",
   "execution_count": 6,
   "metadata": {},
   "outputs": [
    {
     "name": "stdout",
     "output_type": "stream",
     "text": [
      "new split dir exists....\n"
     ]
    }
   ],
   "source": [
    "# building tr/ts/val directory structure with classes in each split \n",
    "\n",
    "# build parent dir\n",
    "if(os.path.exists(os.path.join(new_split_dir))):\n",
    "    print(\"new split dir exists....\")\n",
    "else:\n",
    "    os.mkdir(os.path.join(new_split_dir))\n",
    "    print(\"built new dir :\" + new_split_dir)"
   ]
  },
  {
   "cell_type": "code",
   "execution_count": 7,
   "metadata": {},
   "outputs": [
    {
     "name": "stdout",
     "output_type": "stream",
     "text": [
      "training directory already exists. Skipping...\n",
      "validation directory already exists. Skipping...\n",
      "testing directory already exists. Skipping...\n",
      "Created melspec dirs:\n",
      "['testing', 'training', 'validation']\n"
     ]
    }
   ],
   "source": [
    "for split in split_dirs:\n",
    "    # build training, testing, validation dirs\n",
    "    if(os.path.exists(os.path.join(new_split_dir, split))):\n",
    "        print(split, \"directory already exists. Skipping...\")\n",
    "    else:\n",
    "        os.mkdir(os.path.join(new_split_dir, split))\n",
    "\n",
    "    for i in range(len(class_dirs)):\n",
    "        # build class dirs inside split dirs\n",
    "        if(os.path.exists(os.path.join(new_split_dir, split, class_dirs[i]))):\n",
    "            print(split_dirs[i], \"directory already exists. Skipping...\")\n",
    "        else:\n",
    "            os.mkdir(os.path.join(new_split_dir, split, class_dirs[i]))\n",
    "\n",
    "print(\"Created melspec dirs:\")\n",
    "print(os.listdir(new_split_dir))"
   ]
  },
  {
   "cell_type": "code",
   "execution_count": 8,
   "metadata": {},
   "outputs": [
    {
     "data": {
      "text/plain": [
       "['../data/splits\\\\testing',\n",
       " '../data/splits\\\\training',\n",
       " '../data/splits\\\\validation']"
      ]
     },
     "execution_count": 8,
     "metadata": {},
     "output_type": "execute_result"
    }
   ],
   "source": [
    "split_dirs = glob.glob(new_split_dir + \"*\")\n",
    "split_dirs"
   ]
  },
  {
   "cell_type": "code",
   "execution_count": 17,
   "metadata": {},
   "outputs": [
    {
     "data": {
      "text/plain": [
       "1"
      ]
     },
     "execution_count": 17,
     "metadata": {},
     "output_type": "execute_result"
    }
   ],
   "source": [
    "len(files)"
   ]
  },
  {
   "cell_type": "code",
   "execution_count": 9,
   "metadata": {
    "scrolled": true
   },
   "outputs": [
    {
     "name": "stdout",
     "output_type": "stream",
     "text": [
      "\n",
      "../../melspec_generation/results/melspecs/AMA\n",
      "Tot-Sam: 1\n",
      "Tot training samples = -249\n",
      "Tot validation samples = 200\n",
      "Tot testing samples =  50\n"
     ]
    },
    {
     "ename": "IndexError",
     "evalue": "list index out of range",
     "output_type": "error",
     "traceback": [
      "\u001b[1;31m---------------------------------------------------------------------------\u001b[0m",
      "\u001b[1;31mIndexError\u001b[0m                                Traceback (most recent call last)",
      "\u001b[1;32m<ipython-input-9-6ce10437b651>\u001b[0m in \u001b[0;36m<module>\u001b[1;34m\u001b[0m\n\u001b[0;32m     49\u001b[0m     \u001b[1;32mfor\u001b[0m \u001b[0mk\u001b[0m \u001b[1;32min\u001b[0m \u001b[0mval\u001b[0m\u001b[1;33m:\u001b[0m\u001b[1;33m\u001b[0m\u001b[1;33m\u001b[0m\u001b[0m\n\u001b[0;32m     50\u001b[0m         \u001b[0mdest_path\u001b[0m \u001b[1;33m=\u001b[0m \u001b[0mnew_split_dir\u001b[0m \u001b[1;33m+\u001b[0m \u001b[1;34m\"validation/\"\u001b[0m \u001b[1;33m+\u001b[0m \u001b[0mclass_dir\u001b[0m\u001b[1;33m\u001b[0m\u001b[1;33m\u001b[0m\u001b[0m\n\u001b[1;32m---> 51\u001b[1;33m         \u001b[0mfile_copier\u001b[0m\u001b[1;33m(\u001b[0m\u001b[0mfiles\u001b[0m\u001b[1;33m[\u001b[0m\u001b[0mk\u001b[0m\u001b[1;33m]\u001b[0m\u001b[1;33m,\u001b[0m \u001b[0mdest_path\u001b[0m\u001b[1;33m,\u001b[0m \u001b[0mk\u001b[0m\u001b[1;33m)\u001b[0m\u001b[1;33m\u001b[0m\u001b[1;33m\u001b[0m\u001b[0m\n\u001b[0m",
      "\u001b[1;32m<ipython-input-4-bd9e28dea940>\u001b[0m in \u001b[0;36mfile_copier\u001b[1;34m(src_path, dest_path, index)\u001b[0m\n\u001b[0;32m      5\u001b[0m     \u001b[1;31m# string splicing\u001b[0m\u001b[1;33m\u001b[0m\u001b[1;33m\u001b[0m\u001b[1;33m\u001b[0m\u001b[0m\n\u001b[0;32m      6\u001b[0m     \u001b[0mext\u001b[0m \u001b[1;33m=\u001b[0m \u001b[0msrc_path\u001b[0m\u001b[1;33m.\u001b[0m\u001b[0msplit\u001b[0m\u001b[1;33m(\u001b[0m\u001b[1;34m\"_\"\u001b[0m\u001b[1;33m)\u001b[0m\u001b[1;33m[\u001b[0m\u001b[1;33m-\u001b[0m\u001b[1;36m1\u001b[0m\u001b[1;33m]\u001b[0m \u001b[1;31m# get extension\u001b[0m\u001b[1;33m\u001b[0m\u001b[1;33m\u001b[0m\u001b[0m\n\u001b[1;32m----> 7\u001b[1;33m     \u001b[0mcl\u001b[0m \u001b[1;33m=\u001b[0m \u001b[0msrc_path\u001b[0m\u001b[1;33m.\u001b[0m\u001b[0msplit\u001b[0m\u001b[1;33m(\u001b[0m\u001b[1;34m\"_\"\u001b[0m\u001b[1;33m)\u001b[0m\u001b[1;33m[\u001b[0m\u001b[1;33m-\u001b[0m\u001b[1;36m5\u001b[0m\u001b[1;33m]\u001b[0m \u001b[1;31m# get class\u001b[0m\u001b[1;33m\u001b[0m\u001b[1;33m\u001b[0m\u001b[0m\n\u001b[0m\u001b[0;32m      8\u001b[0m     \u001b[0mcl_annotation\u001b[0m \u001b[1;33m=\u001b[0m \u001b[0mcl\u001b[0m\u001b[1;33m.\u001b[0m\u001b[0msplit\u001b[0m\u001b[1;33m(\u001b[0m\u001b[1;34m\"\\\\\"\u001b[0m\u001b[1;33m)\u001b[0m\u001b[1;33m[\u001b[0m\u001b[1;33m-\u001b[0m\u001b[1;36m1\u001b[0m\u001b[1;33m]\u001b[0m \u001b[1;31m# clean to class annotation\u001b[0m\u001b[1;33m\u001b[0m\u001b[1;33m\u001b[0m\u001b[0m\n\u001b[0;32m      9\u001b[0m \u001b[1;33m\u001b[0m\u001b[0m\n",
      "\u001b[1;31mIndexError\u001b[0m: list index out of range"
     ]
    }
   ],
   "source": [
    "# iterate thru each class directory of mel specs\n",
    "for i, temp in enumerate(class_dirs):\n",
    "    print()\n",
    "    class_dir = temp # class name\n",
    "    temp_dir = melspec_dir + temp # full class path name \n",
    "    print(temp_dir)\n",
    "    files = glob.glob(temp_dir + \"/*.png\")  # list mel pngs in current class dir\n",
    "    tot_sam = len(files) # how many spectrograms do we have\n",
    "    \n",
    "    # data split for ABGQ\n",
    "    if temp != 'interference':\n",
    "        tr_sam = math.ceil(tot_sam - test_n - val_n) # account for test and val data\n",
    "        val_sam = val_n\n",
    "        test_sam = test_n\n",
    "        \n",
    "    # adjust for interference because 200 validation samples would result in insufficient training samples\n",
    "    else:\n",
    "        val_sam = 50\n",
    "        test_sam = 50\n",
    "        tr_sam = math.ceil(tot_sam - test_sam - val_sam)\n",
    "       \n",
    "    # print out what our splits will look like \n",
    "    print(\"Tot-Sam:\", tot_sam)\n",
    "    print('Tot training samples =', tr_sam) \n",
    "    print('Tot validation samples =', val_sam) \n",
    "    print('Tot testing samples = ', test_sam)\n",
    "    \n",
    "    # create list the length of the target class ROIs\n",
    "    values = list(range(tot_sam))    \n",
    "    # randomize values\n",
    "    random.shuffle(values)\n",
    "    \n",
    "    # grab upto specified training samples then testing samples then val smaples from ranomized list\n",
    "    train = values[:tr_sam]\n",
    "    test = values[tr_sam:(tr_sam + test_sam)]\n",
    "    val = values[-val_sam:]\n",
    "    \n",
    "    # grab correpsonding file indices and *COPY* image to correct split directory\n",
    "    # copy training\n",
    "    for i in train:\n",
    "        dest_path = new_split_dir + \"training/\" + class_dir\n",
    "        file_copier(files[i], dest_path, i)\n",
    "        \n",
    "    # copy testing\n",
    "    for j in test:\n",
    "        dest_path = new_split_dir + \"testing/\" + class_dir\n",
    "        file_copier(files[j], dest_path, j)\n",
    "    \n",
    "    # copy validation\n",
    "    for k in val:\n",
    "        dest_path = new_split_dir + \"validation/\" + class_dir\n",
    "        file_copier(files[k], dest_path, k)"
   ]
  }
 ],
 "metadata": {
  "kernelspec": {
   "display_name": "Python 3",
   "language": "python",
   "name": "python3"
  },
  "language_info": {
   "codemirror_mode": {
    "name": "ipython",
    "version": 3
   },
   "file_extension": ".py",
   "mimetype": "text/x-python",
   "name": "python",
   "nbconvert_exporter": "python",
   "pygments_lexer": "ipython3",
   "version": "3.7.7"
  }
 },
 "nbformat": 4,
 "nbformat_minor": 4
}
